{
 "cells": [
  {
   "cell_type": "markdown",
   "id": "c47964ec",
   "metadata": {
    "papermill": {
     "duration": 0.002556,
     "end_time": "2025-04-25T14:46:34.616835",
     "exception": false,
     "start_time": "2025-04-25T14:46:34.614279",
     "status": "completed"
    },
    "tags": []
   },
   "source": [
    "* I'm excited to share a new approach for generating SVG code.\n",
    "* 我很高兴和大家分享一个新的产生SVG代码的方式\n",
    "* The SVG generation workflow demonstrated by this code is as follows:\n",
    "* SVG生成过程如下所示\n",
    "* Project URL: [https://github.com/joanrod/star-vector](https://github.com/joanrod/star-vector)\n",
    "* 项目原地址看这个URL\n",
    "* Many users couldn't directly utilize this project because it implemented Flash_attention, which cannot run on T4 GPUs.\n",
    "* 很多用户无法直接运行这个项目在GPUT4上因为Flash_attention\n",
    "* I've modified the code in the project to remove Flash_attention.\n",
    "* 老外可能看不懂中文，所以我告诉你们，我直接在模型配置文件里把flashattention给禁掉了，所以现在可以用了\n",
    "  "
   ]
  },
  {
   "cell_type": "markdown",
   "id": "8e3a26b4",
   "metadata": {
    "papermill": {
     "duration": 0.001601,
     "end_time": "2025-04-25T14:46:34.620558",
     "exception": false,
     "start_time": "2025-04-25T14:46:34.618957",
     "status": "completed"
    },
    "tags": []
   },
   "source": [
    "* First, enable the network button in the right sidebar and install the required dependencies before proceeding with subsequent steps.\n",
    "* 你丫运行这个代码的时候记得先把右边栏的网络打开和依赖安装掉\n",
    "* Or you can directly run this code, but remember to enable the network connection. If the network is already enabled, please disregard this reminder.\n",
    "* 我知道你丫可能看不懂这个步骤，那你老老实实的把运行下面的代码吧\n",
    "* !pip install git+https://github.com/hzdzkjdxyjs/meanless-project.git"
   ]
  },
  {
   "cell_type": "code",
   "execution_count": 1,
   "id": "4c5b1ac0",
   "metadata": {
    "execution": {
     "iopub.execute_input": "2025-04-25T14:46:34.625028Z",
     "iopub.status.busy": "2025-04-25T14:46:34.624708Z",
     "iopub.status.idle": "2025-04-25T14:46:34.628536Z",
     "shell.execute_reply": "2025-04-25T14:46:34.627935Z"
    },
    "papermill": {
     "duration": 0.007194,
     "end_time": "2025-04-25T14:46:34.629509",
     "exception": false,
     "start_time": "2025-04-25T14:46:34.622315",
     "status": "completed"
    },
    "tags": []
   },
   "outputs": [],
   "source": [
    "# !pip install git+https://github.com/hzdzkjdxyjs/meanless-project.git"
   ]
  },
  {
   "cell_type": "markdown",
   "id": "5bcbdb23",
   "metadata": {
    "papermill": {
     "duration": 0.001705,
     "end_time": "2025-04-25T14:46:34.633100",
     "exception": false,
     "start_time": "2025-04-25T14:46:34.631395",
     "status": "completed"
    },
    "tags": []
   },
   "source": [
    "* Load and Launch Model from Kaggle\n",
    "* 从kagglehub加载模型"
   ]
  },
  {
   "cell_type": "code",
   "execution_count": 2,
   "id": "df50ecf9",
   "metadata": {
    "execution": {
     "iopub.execute_input": "2025-04-25T14:46:34.637503Z",
     "iopub.status.busy": "2025-04-25T14:46:34.637299Z",
     "iopub.status.idle": "2025-04-25T14:47:48.946436Z",
     "shell.execute_reply": "2025-04-25T14:47:48.945681Z"
    },
    "papermill": {
     "duration": 74.312677,
     "end_time": "2025-04-25T14:47:48.947702",
     "exception": false,
     "start_time": "2025-04-25T14:46:34.635025",
     "status": "completed"
    },
    "tags": []
   },
   "outputs": [
    {
     "name": "stderr",
     "output_type": "stream",
     "text": [
      "2025-04-25 14:46:46.532932: E external/local_xla/xla/stream_executor/cuda/cuda_fft.cc:477] Unable to register cuFFT factory: Attempting to register factory for plugin cuFFT when one has already been registered\n",
      "WARNING: All log messages before absl::InitializeLog() is called are written to STDERR\n",
      "E0000 00:00:1745592406.733256      75 cuda_dnn.cc:8310] Unable to register cuDNN factory: Attempting to register factory for plugin cuDNN when one has already been registered\n",
      "E0000 00:00:1745592406.792236      75 cuda_blas.cc:1418] Unable to register cuBLAS factory: Attempting to register factory for plugin cuBLAS when one has already been registered\n",
      "The new embeddings will be initialized from a multivariate normal distribution that has old embeddings' mean and covariance. As described in this article: https://nlp.stanford.edu/~johnhew/vocab-expansion.html. To disable this, use `mean_resizing=False`\n"
     ]
    },
    {
     "name": "stdout",
     "output_type": "stream",
     "text": [
      "trainable params: 0 || all params: 1434095106 || trainable%: 0.0\n"
     ]
    },
    {
     "data": {
      "application/vnd.jupyter.widget-view+json": {
       "model_id": "4ddde801a2a94b71a0862c0815632eee",
       "version_major": 2,
       "version_minor": 0
      },
      "text/plain": [
       "Loading checkpoint shards:   0%|          | 0/2 [00:00<?, ?it/s]"
      ]
     },
     "metadata": {},
     "output_type": "display_data"
    }
   ],
   "source": [
    "from PIL import Image\n",
    "from starvector.model.starvector_arch import StarVectorForCausalLM\n",
    "from starvector.data.util import process_and_rasterize_svg\n",
    "import torch\n",
    "import kagglehub\n",
    "import os \n",
    "path = kagglehub.model_download(\"adelinadolbow/starvector-1b-imgsvg/transformers/default\")\n",
    "base_model_path = os.path.join(path, \"starcoderbase-1b\")\n",
    "model_path = os.path.join(path, \"starvector-1b-im2svg\")\n",
    "starvector =  StarVectorForCausalLM.from_pretrained(model_path,\n",
    "                                                    torch_dtype=torch.float16,\n",
    "                                                   starcoder_model_name=base_model_path,\n",
    "                                                   use_flash_attn=False\n",
    "                                                   )\n",
    "processor = starvector.model.processor\n",
    "tokenizer = starvector.model.svg_transformer.tokenizer\n"
   ]
  },
  {
   "cell_type": "markdown",
   "id": "33f5e4aa",
   "metadata": {
    "papermill": {
     "duration": 0.002013,
     "end_time": "2025-04-25T14:47:48.952253",
     "exception": false,
     "start_time": "2025-04-25T14:47:48.950240",
     "status": "completed"
    },
    "tags": []
   },
   "source": [
    "* open an image\n",
    "* 随便打开一张图片"
   ]
  },
  {
   "cell_type": "code",
   "execution_count": 3,
   "id": "e8e4fd31",
   "metadata": {
    "execution": {
     "iopub.execute_input": "2025-04-25T14:47:48.957571Z",
     "iopub.status.busy": "2025-04-25T14:47:48.957134Z",
     "iopub.status.idle": "2025-04-25T14:47:49.001994Z",
     "shell.execute_reply": "2025-04-25T14:47:49.001341Z"
    },
    "papermill": {
     "duration": 0.048793,
     "end_time": "2025-04-25T14:47:49.003093",
     "exception": false,
     "start_time": "2025-04-25T14:47:48.954300",
     "status": "completed"
    },
    "tags": []
   },
   "outputs": [
    {
     "data": {
      "image/jpeg": "[encoded data removed]",
      "image/png": "[encoded data removed]",
      "text/plain": [
       "<PIL.PngImagePlugin.PngImageFile image mode=RGB size=224x224>"
      ]
     },
     "execution_count": 3,
     "metadata": {},
     "output_type": "execute_result"
    }
   ],
   "source": [
    "Image.open('/kaggle/input/my-picture/sample-6.png')"
   ]
  },
  {
   "cell_type": "markdown",
   "id": "05aeed87",
   "metadata": {
    "papermill": {
     "duration": 0.002122,
     "end_time": "2025-04-25T14:47:49.007662",
     "exception": false,
     "start_time": "2025-04-25T14:47:49.005540",
     "status": "completed"
    },
    "tags": []
   },
   "source": [
    "* 产生svg\n",
    "* Generate SVG"
   ]
  },
  {
   "cell_type": "code",
   "execution_count": 4,
   "id": "b1a21899",
   "metadata": {
    "execution": {
     "iopub.execute_input": "2025-04-25T14:47:49.013252Z",
     "iopub.status.busy": "2025-04-25T14:47:49.012758Z",
     "iopub.status.idle": "2025-04-25T14:47:56.520431Z",
     "shell.execute_reply": "2025-04-25T14:47:56.519854Z"
    },
    "papermill": {
     "duration": 7.511855,
     "end_time": "2025-04-25T14:47:56.521741",
     "exception": false,
     "start_time": "2025-04-25T14:47:49.009886",
     "status": "completed"
    },
    "tags": []
   },
   "outputs": [
    {
     "name": "stderr",
     "output_type": "stream",
     "text": [
      "Asking to truncate to max_length but no maximum length is provided and the model has no predefined maximum length. Default to no truncation.\n"
     ]
    }
   ],
   "source": [
    "starvector.cuda()\n",
    "starvector.eval()\n",
    "image_pil = Image.open('/kaggle/input/my-picture/sample-6.png')\n",
    "image =starvector.process_images([image_pil])[0].cuda()\n",
    "if not image.shape[0] == 1:\n",
    "    image = image.squeeze(0)\n",
    "batch ={\"image\": image,\"use_flash_attn\": False}\n",
    "\n",
    "raw_svg = starvector.generate_im2svg(batch, max_length=4000)[0]\n",
    "svg, raster_image = process_and_rasterize_svg(raw_svg)"
   ]
  },
  {
   "cell_type": "markdown",
   "id": "7fe8def7",
   "metadata": {
    "papermill": {
     "duration": 0.002374,
     "end_time": "2025-04-25T14:47:56.526974",
     "exception": false,
     "start_time": "2025-04-25T14:47:56.524600",
     "status": "completed"
    },
    "tags": []
   },
   "source": [
    "* 查看结果\n",
    "* view the result"
   ]
  },
  {
   "cell_type": "code",
   "execution_count": 5,
   "id": "60845419",
   "metadata": {
    "execution": {
     "iopub.execute_input": "2025-04-25T14:47:56.532384Z",
     "iopub.status.busy": "2025-04-25T14:47:56.532158Z",
     "iopub.status.idle": "2025-04-25T14:47:56.536696Z",
     "shell.execute_reply": "2025-04-25T14:47:56.536129Z"
    },
    "papermill": {
     "duration": 0.00847,
     "end_time": "2025-04-25T14:47:56.537735",
     "exception": false,
     "start_time": "2025-04-25T14:47:56.529265",
     "status": "completed"
    },
    "tags": []
   },
   "outputs": [
    {
     "data": {
      "image/svg+xml": [
       "<svg xmlns=\"http://www.w3.org/2000/svg\" viewBox=\"0 0 1024 1024\">\n",
       "   <circle cx=\"512\" cy=\"512\" r=\"512\" style=\"fill:#4bca81\"/>\n",
       "   <path d=\"M458.2 681.4c0 7.2-10.2 13.1-22.8 13.1h-49.6c-12.6 0-22.8-5.9-22.8-13.1V342.6c0-7.2 10.2-13.1 22.8-13.1h49.6c12.6 0 22.8 5.9 22.8 13.1v338.8zm198.4 0c0 7.2-10.2 13.1-22.8 13.1h-49.6c-12.6 0-22.8-5.9-22.8-13.1V342.6c0-7.2 10.2-13.1 22.8-13.1h49.6c12.6 0 22.8 5.9 22.8 13.1v338.8z\" style=\"fill:#fff\"/>\n",
       "</svg>"
      ],
      "text/plain": [
       "<IPython.core.display.SVG object>"
      ]
     },
     "execution_count": 5,
     "metadata": {},
     "output_type": "execute_result"
    }
   ],
   "source": [
    "from IPython.display import SVG\n",
    "SVG(svg)"
   ]
  }
 ],
 "metadata": {
  "kaggle": {
   "accelerator": "nvidiaTeslaT4",
   "dataSources": [
    {
     "databundleVersionId": 11735795,
     "sourceId": 89659,
     "sourceType": "competition"
    },
    {
     "datasetId": 7247230,
     "sourceId": 11558375,
     "sourceType": "datasetVersion"
    },
    {
     "modelId": 318111,
     "modelInstanceId": 297504,
     "sourceId": 356898,
     "sourceType": "modelInstanceVersion"
    }
   ],
   "isGpuEnabled": true,
   "isInternetEnabled": true,
   "language": "python",
   "sourceType": "notebook"
  },
  "kernelspec": {
   "display_name": "Python 3",
   "language": "python",
   "name": "python3"
  },
  "language_info": {
   "codemirror_mode": {
    "name": "ipython",
    "version": 3
   },
   "file_extension": ".py",
   "mimetype": "text/x-python",
   "name": "python",
   "nbconvert_exporter": "python",
   "pygments_lexer": "ipython3",
   "version": "3.11.11"
  },
  "papermill": {
   "default_parameters": {},
   "duration": 89.127575,
   "end_time": "2025-04-25T14:47:59.765823",
   "environment_variables": {},
   "exception": null,
   "input_path": "__notebook__.ipynb",
   "output_path": "__notebook__.ipynb",
   "parameters": {},
   "start_time": "2025-04-25T14:46:30.638248",
   "version": "2.6.0"
  },
  "widgets": {
   "application/vnd.jupyter.widget-state+json": {
    "state": {
     "01f5d44231a44a10853e8c229a2f47e1": {
      "model_module": "@jupyter-widgets/controls",
      "model_module_version": "2.0.0",
      "model_name": "HTMLStyleModel",
      "state": {
       "_model_module": "@jupyter-widgets/controls",
       "_model_module_version": "2.0.0",
       "_model_name": "HTMLStyleModel",
       "_view_count": null,
       "_view_module": "@jupyter-widgets/base",
       "_view_module_version": "2.0.0",
       "_view_name": "StyleView",
       "background": null,
       "description_width": "",
       "font_size": null,
       "text_color": null
      }
     },
     "02c570b115224190af62dbe44c84bbdb": {
      "model_module": "@jupyter-widgets/controls",
      "model_module_version": "2.0.0",
      "model_name": "HTMLStyleModel",
      "state": {
       "_model_module": "@jupyter-widgets/controls",
       "_model_module_version": "2.0.0",
       "_model_name": "HTMLStyleModel",
       "_view_count": null,
       "_view_module": "@jupyter-widgets/base",
       "_view_module_version": "2.0.0",
       "_view_name": "StyleView",
       "background": null,
       "description_width": "",
       "font_size": null,
       "text_color": null
      }
     },
     "0cd0e9320a844870a7c6a166430897d2": {
      "model_module": "@jupyter-widgets/base",
      "model_module_version": "2.0.0",
      "model_name": "LayoutModel",
      "state": {
       "_model_module": "@jupyter-widgets/base",
       "_model_module_version": "2.0.0",
       "_model_name": "LayoutModel",
       "_view_count": null,
       "_view_module": "@jupyter-widgets/base",
       "_view_module_version": "2.0.0",
       "_view_name": "LayoutView",
       "align_content": null,
       "align_items": null,
       "align_self": null,
       "border_bottom": null,
       "border_left": null,
       "border_right": null,
       "border_top": null,
       "bottom": null,
       "display": null,
       "flex": null,
       "flex_flow": null,
       "grid_area": null,
       "grid_auto_columns": null,
       "grid_auto_flow": null,
       "grid_auto_rows": null,
       "grid_column": null,
       "grid_gap": null,
       "grid_row": null,
       "grid_template_areas": null,
       "grid_template_columns": null,
       "grid_template_rows": null,
       "height": null,
       "justify_content": null,
       "justify_items": null,
       "left": null,
       "margin": null,
       "max_height": null,
       "max_width": null,
       "min_height": null,
       "min_width": null,
       "object_fit": null,
       "object_position": null,
       "order": null,
       "overflow": null,
       "padding": null,
       "right": null,
       "top": null,
       "visibility": null,
       "width": null
      }
     },
     "487a390064314b62b4398c9ed4df8300": {
      "model_module": "@jupyter-widgets/controls",
      "model_module_version": "2.0.0",
      "model_name": "ProgressStyleModel",
      "state": {
       "_model_module": "@jupyter-widgets/controls",
       "_model_module_version": "2.0.0",
       "_model_name": "ProgressStyleModel",
       "_view_count": null,
       "_view_module": "@jupyter-widgets/base",
       "_view_module_version": "2.0.0",
       "_view_name": "StyleView",
       "bar_color": null,
       "description_width": ""
      }
     },
     "4ddde801a2a94b71a0862c0815632eee": {
      "model_module": "@jupyter-widgets/controls",
      "model_module_version": "2.0.0",
      "model_name": "HBoxModel",
      "state": {
       "_dom_classes": [],
       "_model_module": "@jupyter-widgets/controls",
       "_model_module_version": "2.0.0",
       "_model_name": "HBoxModel",
       "_view_count": null,
       "_view_module": "@jupyter-widgets/controls",
       "_view_module_version": "2.0.0",
       "_view_name": "HBoxView",
       "box_style": "",
       "children": [
        "IPY_MODEL_74f41110124e4de6bb82c977e21c4c4f",
        "IPY_MODEL_8c6a40c39e1d46cbae0e1bdf0407abd6",
        "IPY_MODEL_fa451c7830d4402fad20e03797462171"
       ],
       "layout": "IPY_MODEL_0cd0e9320a844870a7c6a166430897d2",
       "tabbable": null,
       "tooltip": null
      }
     },
     "74f41110124e4de6bb82c977e21c4c4f": {
      "model_module": "@jupyter-widgets/controls",
      "model_module_version": "2.0.0",
      "model_name": "HTMLModel",
      "state": {
       "_dom_classes": [],
       "_model_module": "@jupyter-widgets/controls",
       "_model_module_version": "2.0.0",
       "_model_name": "HTMLModel",
       "_view_count": null,
       "_view_module": "@jupyter-widgets/controls",
       "_view_module_version": "2.0.0",
       "_view_name": "HTMLView",
       "description": "",
       "description_allow_html": false,
       "layout": "IPY_MODEL_b3f0ea3ca57d413c9be72c495b4cbb91",
       "placeholder": "​",
       "style": "IPY_MODEL_02c570b115224190af62dbe44c84bbdb",
       "tabbable": null,
       "tooltip": null,
       "value": "Loading checkpoint shards: 100%"
      }
     },
     "8c6a40c39e1d46cbae0e1bdf0407abd6": {
      "model_module": "@jupyter-widgets/controls",
      "model_module_version": "2.0.0",
      "model_name": "FloatProgressModel",
      "state": {
       "_dom_classes": [],
       "_model_module": "@jupyter-widgets/controls",
       "_model_module_version": "2.0.0",
       "_model_name": "FloatProgressModel",
       "_view_count": null,
       "_view_module": "@jupyter-widgets/controls",
       "_view_module_version": "2.0.0",
       "_view_name": "ProgressView",
       "bar_style": "success",
       "description": "",
       "description_allow_html": false,
       "layout": "IPY_MODEL_c8fc1cfd7694454fb86655b4e47425e7",
       "max": 2.0,
       "min": 0.0,
       "orientation": "horizontal",
       "style": "IPY_MODEL_487a390064314b62b4398c9ed4df8300",
       "tabbable": null,
       "tooltip": null,
       "value": 2.0
      }
     },
     "972a4c9e946a44fa95f018035135aae5": {
      "model_module": "@jupyter-widgets/base",
      "model_module_version": "2.0.0",
      "model_name": "LayoutModel",
      "state": {
       "_model_module": "@jupyter-widgets/base",
       "_model_module_version": "2.0.0",
       "_model_name": "LayoutModel",
       "_view_count": null,
       "_view_module": "@jupyter-widgets/base",
       "_view_module_version": "2.0.0",
       "_view_name": "LayoutView",
       "align_content": null,
       "align_items": null,
       "align_self": null,
       "border_bottom": null,
       "border_left": null,
       "border_right": null,
       "border_top": null,
       "bottom": null,
       "display": null,
       "flex": null,
       "flex_flow": null,
       "grid_area": null,
       "grid_auto_columns": null,
       "grid_auto_flow": null,
       "grid_auto_rows": null,
       "grid_column": null,
       "grid_gap": null,
       "grid_row": null,
       "grid_template_areas": null,
       "grid_template_columns": null,
       "grid_template_rows": null,
       "height": null,
       "justify_content": null,
       "justify_items": null,
       "left": null,
       "margin": null,
       "max_height": null,
       "max_width": null,
       "min_height": null,
       "min_width": null,
       "object_fit": null,
       "object_position": null,
       "order": null,
       "overflow": null,
       "padding": null,
       "right": null,
       "top": null,
       "visibility": null,
       "width": null
      }
     },
     "b3f0ea3ca57d413c9be72c495b4cbb91": {
      "model_module": "@jupyter-widgets/base",
      "model_module_version": "2.0.0",
      "model_name": "LayoutModel",
      "state": {
       "_model_module": "@jupyter-widgets/base",
       "_model_module_version": "2.0.0",
       "_model_name": "LayoutModel",
       "_view_count": null,
       "_view_module": "@jupyter-widgets/base",
       "_view_module_version": "2.0.0",
       "_view_name": "LayoutView",
       "align_content": null,
       "align_items": null,
       "align_self": null,
       "border_bottom": null,
       "border_left": null,
       "border_right": null,
       "border_top": null,
       "bottom": null,
       "display": null,
       "flex": null,
       "flex_flow": null,
       "grid_area": null,
       "grid_auto_columns": null,
       "grid_auto_flow": null,
       "grid_auto_rows": null,
       "grid_column": null,
       "grid_gap": null,
       "grid_row": null,
       "grid_template_areas": null,
       "grid_template_columns": null,
       "grid_template_rows": null,
       "height": null,
       "justify_content": null,
       "justify_items": null,
       "left": null,
       "margin": null,
       "max_height": null,
       "max_width": null,
       "min_height": null,
       "min_width": null,
       "object_fit": null,
       "object_position": null,
       "order": null,
       "overflow": null,
       "padding": null,
       "right": null,
       "top": null,
       "visibility": null,
       "width": null
      }
     },
     "c8fc1cfd7694454fb86655b4e47425e7": {
      "model_module": "@jupyter-widgets/base",
      "model_module_version": "2.0.0",
      "model_name": "LayoutModel",
      "state": {
       "_model_module": "@jupyter-widgets/base",
       "_model_module_version": "2.0.0",
       "_model_name": "LayoutModel",
       "_view_count": null,
       "_view_module": "@jupyter-widgets/base",
       "_view_module_version": "2.0.0",
       "_view_name": "LayoutView",
       "align_content": null,
       "align_items": null,
       "align_self": null,
       "border_bottom": null,
       "border_left": null,
       "border_right": null,
       "border_top": null,
       "bottom": null,
       "display": null,
       "flex": null,
       "flex_flow": null,
       "grid_area": null,
       "grid_auto_columns": null,
       "grid_auto_flow": null,
       "grid_auto_rows": null,
       "grid_column": null,
       "grid_gap": null,
       "grid_row": null,
       "grid_template_areas": null,
       "grid_template_columns": null,
       "grid_template_rows": null,
       "height": null,
       "justify_content": null,
       "justify_items": null,
       "left": null,
       "margin": null,
       "max_height": null,
       "max_width": null,
       "min_height": null,
       "min_width": null,
       "object_fit": null,
       "object_position": null,
       "order": null,
       "overflow": null,
       "padding": null,
       "right": null,
       "top": null,
       "visibility": null,
       "width": null
      }
     },
     "fa451c7830d4402fad20e03797462171": {
      "model_module": "@jupyter-widgets/controls",
      "model_module_version": "2.0.0",
      "model_name": "HTMLModel",
      "state": {
       "_dom_classes": [],
       "_model_module": "@jupyter-widgets/controls",
       "_model_module_version": "2.0.0",
       "_model_name": "HTMLModel",
       "_view_count": null,
       "_view_module": "@jupyter-widgets/controls",
       "_view_module_version": "2.0.0",
       "_view_name": "HTMLView",
       "description": "",
       "description_allow_html": false,
       "layout": "IPY_MODEL_972a4c9e946a44fa95f018035135aae5",
       "placeholder": "​",
       "style": "IPY_MODEL_01f5d44231a44a10853e8c229a2f47e1",
       "tabbable": null,
       "tooltip": null,
       "value": " 2/2 [00:20&lt;00:00,  8.81s/it]"
      }
     }
    },
    "version_major": 2,
    "version_minor": 0
   }
  }
 },
 "nbformat": 4,
 "nbformat_minor": 5
}
